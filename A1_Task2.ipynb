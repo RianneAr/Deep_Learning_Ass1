{
 "cells": [
  {
   "cell_type": "markdown",
   "id": "09cc9753",
   "metadata": {},
   "source": [
    "# Task 2"
   ]
  },
  {
   "cell_type": "code",
   "execution_count": 36,
   "id": "e051402b",
   "metadata": {},
   "outputs": [],
   "source": [
    "import numpy as np\n",
    "import pandas as pd\n",
    "from numpy.random import default_rng\n",
    "from sklearn import preprocessing\n",
    "from sklearn.metrics import mean_squared_error\n",
    "\n",
    "train_in = pd.read_csv('train_in.csv', header=None)\n",
    "train_out = pd.read_csv('train_out.csv', header=None)\n",
    "test_in = pd.read_csv('test_in.csv', header=None)\n",
    "test_out = pd.read_csv('test_out.csv', header=None)"
   ]
  },
  {
   "cell_type": "code",
   "execution_count": 19,
   "id": "5a021eff",
   "metadata": {},
   "outputs": [],
   "source": [
    "# insert a column of one in the train set for the bias\n",
    "train_in.insert(0, 'w0', 1)\n",
    "test_in.insert(0, 'w0', 1)\n",
    "\n",
    "# generate Weights randomly\n",
    "rng = default_rng(seed=42) # ?-> do i have to change the seed different and calculate the mean\n",
    "vals = rng.standard_normal(size=(257, 10)) # standard Gaussian\n",
    "W = preprocessing.MaxAbsScaler().fit_transform(vals) # uniform (on [-1, 1])\n",
    "\n",
    "delta_w = np.full((257, 10), 0.00)\n",
    "\n",
    "# encode the desired label to binary colomns\n",
    "encoder = preprocessing.OneHotEncoder(handle_unknown='ignore')\n",
    "trainout = pd.DataFrame(encoder.fit_transform(train_out).toarray())\n",
    "testout = pd.DataFrame(encoder.fit_transform(test_out).toarray())"
   ]
  },
  {
   "cell_type": "code",
   "execution_count": 34,
   "id": "53b8bb0f",
   "metadata": {},
   "outputs": [],
   "source": [
    "# train the network on train set\n",
    "mse = 10\n",
    "while mse > 0.01:\n",
    "    prediction = []\n",
    "    for index, x in train_in.iterrows():\n",
    "        pre = np.full((1, 9), 0.00)\n",
    "        net = np.dot(x, W)           # linear regression\n",
    "        out = 1 / (1 + np.exp(-net)) # logistic regression\n",
    "        digit = np.argmax(out)\n",
    "        output = np.insert(pre, digit, 1)\n",
    "        prediction.append(output)\n",
    "        # generate the delta w using neuron learning rule\n",
    "        for i in range(trainout.shape[1]): \n",
    "            w_tran = 0.1 * x * (trainout.iloc[index].iloc[i] - out[i]) * out[i] * (1 - out[i])\n",
    "            w_tran = w_tran.values\n",
    "            w_tran = w_tran.reshape(1,-1).T\n",
    "            delta_w[:, i] = w_tran[:, 0]\n",
    "        W += delta_w\n",
    "    mse = mean_squared_error(trainout.values, prediction)"
   ]
  },
  {
   "cell_type": "code",
   "execution_count": 35,
   "id": "c819339c",
   "metadata": {},
   "outputs": [
    {
     "name": "stdout",
     "output_type": "stream",
     "text": [
      "Train percentage correct: 97.656708\n",
      "Test percentage correct: 87.800000\n"
     ]
    }
   ],
   "source": [
    "# calculate the accuracy\n",
    "traincorrect = 0\n",
    "for i, x in train_in.iterrows():\n",
    "    pre = np.full((1, 9), 0.00)\n",
    "    phi = 1 / (1 + np.exp(-np.dot(x, W)))\n",
    "    output = np.insert(pre, np.argmax(phi), 1)\n",
    "    if np.array_equiv(trainout.values[i], output):\n",
    "        traincorrect += 1\n",
    "correctr_train = traincorrect / len(train_in) * 100\n",
    "\n",
    "testcorrect = 0\n",
    "for j, x in test_in.iterrows():\n",
    "    pre = np.full((1, 9), 0.00)\n",
    "    phi = 1 / (1 + np.exp(-np.dot(x, W)))\n",
    "    output = np.insert(pre, np.argmax(phi), 1)\n",
    "    if np.array_equiv(testout.values[j], output):\n",
    "        testcorrect += 1\n",
    "correctr_test = testcorrect / len(test_in) * 100\n",
    "\n",
    "print('Train percentage correct: %f' % correctr_train)\n",
    "print('Test percentage correct: %f' % correctr_test)"
   ]
  },
  {
   "cell_type": "code",
   "execution_count": null,
   "id": "2c231219",
   "metadata": {},
   "outputs": [],
   "source": []
  },
  {
   "cell_type": "code",
   "execution_count": null,
   "id": "c30041d6",
   "metadata": {},
   "outputs": [],
   "source": []
  }
 ],
 "metadata": {
  "kernelspec": {
   "display_name": "Python 3 (ipykernel)",
   "language": "python",
   "name": "python3"
  },
  "language_info": {
   "codemirror_mode": {
    "name": "ipython",
    "version": 3
   },
   "file_extension": ".py",
   "mimetype": "text/x-python",
   "name": "python",
   "nbconvert_exporter": "python",
   "pygments_lexer": "ipython3",
   "version": "3.9.12"
  }
 },
 "nbformat": 4,
 "nbformat_minor": 5
}

{
 "cells": [
  {
   "cell_type": "code",
   "execution_count": 45,
   "metadata": {},
   "outputs": [],
   "source": [
    "import numpy as np\n",
    "from copy import deepcopy\n",
    "import matplotlib.pyplot as plt"
   ]
  },
  {
   "cell_type": "code",
   "execution_count": 46,
   "metadata": {},
   "outputs": [],
   "source": [
    "class Node:\n",
    "    def __init__(self, id, type, parents, weights, neuralNetwork):\n",
    "        self.id = id\n",
    "        self.type = type\n",
    "        self.parents = parents\n",
    "        self.weights = weights\n",
    "        self.inputs = {}\n",
    "        self.output = 0\n",
    "        self.children = []\n",
    "        self.neuralNetwork = neuralNetwork\n",
    "        print(f\"{self.type} node {self.id} created with weights {self.weights}.\")\n",
    "    def setValue(self, setterID, value):\n",
    "        self.inputs[setterID] = value\n",
    "        if len(self.inputs) == len(self.weights):\n",
    "            self.ActivationFunction()\n",
    "\n",
    "    def AddChildren(self, children):\n",
    "        self.children = children\n",
    "        for child in children:\n",
    "            print(f\"{child.id} added as child of {self.id}.\")\n",
    "        if self.type == \"Hidden\" or self.type == \"Input\":\n",
    "            if len(children) == 0:\n",
    "                raise f\"{self.type} node added 0 children.\"\n",
    "\n",
    "    def ActivationFunction(self):\n",
    "        # print(f\"Activation Function called on {self.id}\")\n",
    "        phi = 0\n",
    "        if self.type == \"Input\":\n",
    "            self.result = self.inputs[\"neuralNetwork\"]\n",
    "        else:\n",
    "            if len(self.parents) != len(self.weights):\n",
    "                raise f\"Weights, parents mismatch: weights = {self.weights}, parents: {self.parents}\"\n",
    "            for parent in self.parents:\n",
    "                phi += self.weights[parent.id] * self.inputs[parent.id]                     # \\sum w_i * x_i\n",
    "            phi += 1                                                                        # fixed bias 1\n",
    "            localResult = 1 / (1 - (np.e ** phi))\n",
    "            self.result = localResult\n",
    "        if self.children != None:\n",
    "            for child in self.children:\n",
    "                child.setValue(setterID=self.id, value=self.result)\n",
    "        else:\n",
    "            print(f\"Final Output: {self.result}\")\n",
    "        if self.neuralNetwork != None:\n",
    "            if self.type == \"Output\":\n",
    "                self.neuralNetwork.output = self.result\n",
    "        return self.result\n",
    "    \n",
    "    def UpdateWeights(self, previousDelta, eta, desiredOutput):\n",
    "        if type(previousDelta) != type({\"lol\" : 0.1}):\n",
    "            raise f\"Unexpected datatype {type(previousDelta)}, expected dict.\"\n",
    "        if type(eta) != float and type(eta) != int:\n",
    "            raise f\"Unexpected datatype {type(eta)}, expected int/float.\"\n",
    "        if type(desiredOutput) != int and type(desiredOutput) != float:\n",
    "            raise f\"Unexpected datatype {type(desiredOutput)}, expected int/float.\"\n",
    "        if (self.type == \"Input\"):\n",
    "            pass\n",
    "        elif (self.type == \"Hidden\"):\n",
    "            delta = 0\n",
    "            childWeights = self.getChildrenWeights()\n",
    "            for key in childWeights.keys():\n",
    "                delta += (previousDelta[key] * childWeights[key])\n",
    "            delta *= (self.result * (1 - self.result))\n",
    "            for key in self.weights.keys():\n",
    "                self.weights[key] = self.weights[key] - (delta * eta * self.inputs[key])\n",
    "            return delta \n",
    "        elif (self.type == \"Output\"):\n",
    "            delta = self.result * (1 - self.result) * (desiredOutput - self.result)\n",
    "            for key in self.weights.keys():\n",
    "                self.weights[key] = self.weights[key] - (eta * delta * self.inputs[key])\n",
    "            return delta\n",
    "        else:\n",
    "            raise f\"Invalid type {self.type}, expected Input/Hidden/Output\"\n",
    "\n",
    "    \n",
    "    def getChildrenWeights(self):\n",
    "        weight = {}\n",
    "        if len(self.children) != 0:\n",
    "            for child in self.children:\n",
    "                weight[child.id] = child.weights[self.id]\n",
    "        return weight\n",
    "                \n",
    "    "
   ]
  },
  {
   "cell_type": "code",
   "execution_count": 47,
   "metadata": {},
   "outputs": [],
   "source": [
    "class NeuralNetwork:\n",
    "    def __init__(self, inputCount, hiddenlayerWidth, hiddenLayerDepth, outputCount):\n",
    "        if type(hiddenLayerDepth) != int or type(hiddenlayerWidth) != int or type(outputCount) != int or type(inputCount) != int:\n",
    "            raise \"All inputs are supposed to be integer.\"\n",
    "        self.id = \"neuralNetwork\"\n",
    "        self.output = 0\n",
    "        currentLayer = []\n",
    "        parentLayer = []\n",
    "        layerCounter = 0\n",
    "        for nodeNumber in range(1, inputCount + 1):\n",
    "            currentLayer.append(Node(id=f\"({layerCounter},{nodeNumber})\", type=\"Input\", parents=[self], weights={self.id: 1}, neuralNetwork=self))\n",
    "        self.networkHead = currentLayer\n",
    "        for hiddenLayerNumber in range(1, hiddenLayerDepth + 1):\n",
    "            parentLayer = currentLayer\n",
    "            currentLayer = []\n",
    "            for nodeNumber in range(1, hiddenlayerWidth + 1):\n",
    "                weights = {}\n",
    "                for parent in parentLayer:\n",
    "                    weights[parent.id] = 0.4\n",
    "                node = Node(id=f\"({hiddenLayerNumber}, {nodeNumber})\", type=\"Hidden\", parents=parentLayer, weights=weights, neuralNetwork=self)\n",
    "                currentLayer.append(node)\n",
    "            for parent in parentLayer:\n",
    "                parent.AddChildren(currentLayer)\n",
    "        parentLayer = currentLayer\n",
    "        currentLayer = []\n",
    "        layerCounter += (hiddenLayerDepth + 1)\n",
    "        for outputCount in range(1, outputCount + 1):\n",
    "            weights = {}\n",
    "            for parent in parentLayer:\n",
    "                weights[parent.id] = 0.5\n",
    "            node = Node(id=f\"({layerCounter}, {outputCount})\", type=\"Output\", parents=parentLayer, neuralNetwork=self, weights=weights)\n",
    "            currentLayer.append(node)\n",
    "        for parent in parentLayer:\n",
    "            parent.AddChildren(children=currentLayer)\n",
    "        self.outputLayer = currentLayer\n",
    "    \n",
    "    def GetError(self, inputs, outputs):\n",
    "        if len(inputs) != len(outputs):\n",
    "            raise f\"Input output count mismatch. Input: {len(inputs)} Output: {len(outputs)}.\"\n",
    "        nnOutput = []\n",
    "        error = []\n",
    "        for input in inputs:\n",
    "            self.networkHead[0].setValue(setterID = self.id, value = input[0])\n",
    "            self.networkHead[1].setValue(setterID = self.id, value = input[1])\n",
    "            nnOutput.append(self.output)\n",
    "        for i in range(0, len(outputs)):\n",
    "            error.append((nnOutput[i] - outputs[i]) * (nnOutput[i] - outputs[i]))\n",
    "        return error\n",
    "\n",
    "    def BackTrack(self, learningRate, desiredOutput):\n",
    "        if len(self.outputLayer) == 0:\n",
    "            raise \"No output layer to backtrack from.\"\n",
    "        currentLayer = self.outputLayer\n",
    "        previousDelta = {}\n",
    "        deltaLayer = {}\n",
    "        while type(currentLayer[0]) != type(self):\n",
    "            for node in currentLayer:\n",
    "                delta = node.UpdateWeights(previousDelta=previousDelta, eta = learningRate, desiredOutput = desiredOutput)\n",
    "                deltaLayer[node.id] = delta\n",
    "            # print(deltaLayer)\n",
    "            previousDelta = deepcopy(deltaLayer)\n",
    "            deltaLayer.clear()\n",
    "            currentLayer = currentLayer[0].parents\n",
    "\n",
    "    def FlushNeuralNetwork(self):\n",
    "        currentLayer = self.networkHead\n",
    "        while len(currentLayer) != 0:\n",
    "            for node in currentLayer:\n",
    "                node.inputs.clear()\n",
    "            currentLayer = currentLayer[0].children\n",
    "\n",
    "    def Train(self, epoches, inputs, outputs, learningRate):\n",
    "        errors = []\n",
    "        for i in range(1, epoches + 1):\n",
    "            temporaryErrors = 0\n",
    "            for j in range(len(inputs)):\n",
    "                self.networkHead[0].setValue(setterID=self.id, value=inputs[j][0])\n",
    "                self.networkHead[1].setValue(setterID=self.id, value=inputs[j][1])\n",
    "                temporaryErrors += ((self.output - outputs[j]) * (self.output - outputs[j]))\n",
    "                self.BackTrack(learningRate=learningRate, desiredOutput=outputs[j])\n",
    "                self.FlushNeuralNetwork()\n",
    "            temporaryErrors /= len(outputs)\n",
    "            errors.append(temporaryErrors)\n",
    "        return errors\n",
    "\n"
   ]
  },
  {
   "cell_type": "code",
   "execution_count": 50,
   "metadata": {},
   "outputs": [
    {
     "name": "stdout",
     "output_type": "stream",
     "text": [
      "Input node (0,1) created with weights {'neuralNetwork': 1}.\n",
      "Input node (0,2) created with weights {'neuralNetwork': 1}.\n",
      "Hidden node (1, 1) created with weights {'(0,1)': 0.4, '(0,2)': 0.4}.\n",
      "Hidden node (1, 2) created with weights {'(0,1)': 0.4, '(0,2)': 0.4}.\n",
      "(1, 1) added as child of (0,1).\n",
      "(1, 2) added as child of (0,1).\n",
      "(1, 1) added as child of (0,2).\n",
      "(1, 2) added as child of (0,2).\n",
      "Output node (2, 1) created with weights {'(1, 1)': 0.5, '(1, 2)': 0.5}.\n",
      "(2, 1) added as child of (1, 1).\n",
      "(2, 1) added as child of (1, 2).\n"
     ]
    },
    {
     "data": {
      "text/plain": [
       "[0.007680316190870417,\n",
       " 1.626215386944964,\n",
       " 1.626089610276609,\n",
       " 0.17466619708183767]"
      ]
     },
     "execution_count": 50,
     "metadata": {},
     "output_type": "execute_result"
    }
   ],
   "source": [
    "nn = NeuralNetwork(inputCount=2, hiddenlayerWidth=2, hiddenLayerDepth=1, outputCount=1)\n",
    "nn.outputLayer[0].weights\n",
    "nn.GetError(inputs=[[0, 0], [1, 0], [0, 1], [1, 1]], outputs=[0, 1, 1, 0])\n",
    "nn.FlushNeuralNetwork()\n",
    "errors = nn.Train(epoches=10, inputs=[[0, 0], [1, 0], [0, 1], [1, 1]], outputs=[0, 1, 1, 0], learningRate= 0.2)\n",
    "nn.GetError(inputs=[[0, 0], [1, 0], [0, 1], [1, 1]], outputs=[0, 1, 1, 0])"
   ]
  },
  {
   "cell_type": "code",
   "execution_count": 51,
   "metadata": {},
   "outputs": [
    {
     "data": {
      "text/plain": [
       "[<matplotlib.lines.Line2D at 0x11471b9a0>]"
      ]
     },
     "execution_count": 51,
     "metadata": {},
     "output_type": "execute_result"
    },
    {
     "data": {
      "image/png": "[encoded data removed]",
      "text/plain": [
       "<Figure size 640x480 with 1 Axes>"
      ]
     },
     "metadata": {},
     "output_type": "display_data"
    }
   ],
   "source": [
    "errors = np.array(errors)\n",
    "errors\n",
    "plt.plot(range(1, len(errors) +1), errors)"
   ]
  }
 ],
 "metadata": {
  "kernelspec": {
   "display_name": "Python 3.10.6",
   "language": "python",
   "name": "python3"
  },
  "language_info": {
   "codemirror_mode": {
    "name": "ipython",
    "version": 3
   },
   "file_extension": ".py",
   "mimetype": "text/x-python",
   "name": "python",
   "nbconvert_exporter": "python",
   "pygments_lexer": "ipython3",
   "version": "3.10.6"
  },
  "orig_nbformat": 4,
  "vscode": {
   "interpreter": {
    "hash": "5aa123e0ec1483aca4fc7b4f7c7a9b5c786f381f39a236cc62fd6e8b48c8d320"
   }
  }
 },
 "nbformat": 4,
 "nbformat_minor": 2
}
